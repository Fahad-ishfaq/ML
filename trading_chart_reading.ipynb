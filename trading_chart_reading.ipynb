{
 "cells": [
  {
   "cell_type": "code",
   "execution_count": 38,
   "metadata": {},
   "outputs": [
    {
     "data": {
      "text/plain": [
       "True"
      ]
     },
     "execution_count": 38,
     "metadata": {},
     "output_type": "execute_result"
    }
   ],
   "source": [
    "from PIL import Image\n",
    "import cv2 as cv\n",
    "import numpy as np\n",
    "\n",
    "img = cv.imread(\"./images/chart-full.png\")\n",
    "hsv = cv.cvtColor(img, cv.COLOR_BGR2HSV)\n",
    "light_orange = (1, 190, 200)\n",
    "dark_orange = (18, 255, 255)\n",
    "mask = cv.inRange(hsv, light_orange, dark_orange)\n",
    "res = cv.bitwise_and(img, img, mask=mask)\n",
    "\n",
    "cv.imwrite(\"./output/test.jpg\", res)\n"
   ]
  },
  {
   "cell_type": "code",
   "execution_count": 39,
   "metadata": {},
   "outputs": [
    {
     "data": {
      "text/plain": [
       "True"
      ]
     },
     "execution_count": 39,
     "metadata": {},
     "output_type": "execute_result"
    }
   ],
   "source": [
    "ret,thresh = cv.threshold(res,127,255,cv.THRESH_BINARY)\n",
    "white_pt_coords=np.argwhere(thresh)\n",
    "min_y = min(white_pt_coords[:,0])\n",
    "min_x = min(white_pt_coords[:,1])\n",
    "max_y = max(white_pt_coords[:,0])\n",
    "max_x = max(white_pt_coords[:,1])\n",
    "crop = res[min_y:max_y,min_x:max_x]\n",
    "cv.imwrite(\"./output/white.jpg\", crop)"
   ]
  },
  {
   "cell_type": "code",
   "execution_count": 46,
   "metadata": {},
   "outputs": [
    {
     "name": "stdout",
     "output_type": "stream",
     "text": [
      "—-1638,1160-\n",
      "\f\n"
     ]
    }
   ],
   "source": [
    "from PIL import Image\n",
    "from pytesseract import pytesseract\n",
    "croped_img = Image.open(\"./output/white.jpg\")\n",
    "text = pytesseract.image_to_string(croped_img, config='--psm 8')\n",
    "print(text)"
   ]
  },
  {
   "cell_type": "code",
   "execution_count": null,
   "metadata": {},
   "outputs": [],
   "source": []
  },
  {
   "cell_type": "code",
   "execution_count": null,
   "metadata": {},
   "outputs": [],
   "source": [
    " "
   ]
  }
 ],
 "metadata": {
  "kernelspec": {
   "display_name": "venv",
   "language": "python",
   "name": "python3"
  },
  "language_info": {
   "codemirror_mode": {
    "name": "ipython",
    "version": 3
   },
   "file_extension": ".py",
   "mimetype": "text/x-python",
   "name": "python",
   "nbconvert_exporter": "python",
   "pygments_lexer": "ipython3",
   "version": "3.10.6"
  },
  "orig_nbformat": 4,
  "vscode": {
   "interpreter": {
    "hash": "d584eddfc60d5d58b6758f12d16f974071f70751737bcf1acc4b167a480ddab0"
   }
  }
 },
 "nbformat": 4,
 "nbformat_minor": 2
}
